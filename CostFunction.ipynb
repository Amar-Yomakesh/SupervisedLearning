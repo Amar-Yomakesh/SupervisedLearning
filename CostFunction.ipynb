{
 "cells": [
  {
   "cell_type": "markdown",
   "id": "462d91b0-970a-4cf4-909c-927babab6280",
   "metadata": {},
   "source": [
    "## Cost Function\n",
    "\n",
    "With a given set of training data (x_train, y_train) we plot a marker plot\n",
    "And with linear regression for any x predicting y (^y) can be done by a function f(x) = x*w +b\n",
    "f(x) is nothing but predicting y. \n",
    "\n",
    "Effectively, Cost function signifies how close the prediction is to the actual value.\n",
    "The lesser the cost function value, better the model. Minimising the error.\n",
    "\n",
    "Aim is to find w and b where cost function is as minimum is possible.\n",
    "\n",
    "The equation for cost with one variable is:\n",
    "  $$J(w,b) = \\frac{1}{2m} \\sum\\limits_{i = 0}^{m-1} (f_{w,b}(x^{(i)}) - y^{(i)})^2 \\tag{1}$$ \n",
    " \n",
    "where \n",
    "  $$f_{w,b}(x^{(i)}) = wx^{(i)} + b \\tag{2}$$\n"
   ]
  },
  {
   "cell_type": "code",
   "execution_count": 22,
   "id": "368d2f0b-ba6c-4c44-b10a-1d8d011ef197",
   "metadata": {},
   "outputs": [],
   "source": [
    "import numpy as np\n",
    "import matplotlib.pyplot as plt\n",
    "#from lab_utils_uni import plt_intuition, plt_stationary, plt_update_onclick, soup_bowl\n",
    "\n",
    "from lab_utils_local import plt_intuition"
   ]
  },
  {
   "cell_type": "code",
   "execution_count": 23,
   "id": "bbb17ea9-ea38-4569-b859-d392c03397df",
   "metadata": {},
   "outputs": [],
   "source": [
    "x_train = np.array([1.0,2.0])\n",
    "y_train = np.array([100,200])"
   ]
  },
  {
   "cell_type": "code",
   "execution_count": 24,
   "id": "e95f72a6-aeaf-41e0-b7c0-5f7ee10dafe6",
   "metadata": {},
   "outputs": [],
   "source": [
    "def compute_cost(x,y,w,b):\n",
    "    m = x.shape[0]\n",
    "    cost_sq = 0\n",
    "    for i in range(m):\n",
    "        f_wb= w * x[i] + b\n",
    "        cost_sq = cost_sq + ((f_wb - y[i]) **2)\n",
    "    return cost_sq/(2*m)\n",
    "\n",
    "        "
   ]
  },
  {
   "cell_type": "code",
   "execution_count": 25,
   "id": "d9c76fc3-6d0c-436e-a628-a93d9cbe5fdf",
   "metadata": {},
   "outputs": [
    {
     "data": {
      "text/plain": [
       "625.0"
      ]
     },
     "execution_count": 25,
     "metadata": {},
     "output_type": "execute_result"
    }
   ],
   "source": [
    "compute_cost(x_train,y_train,50,50)"
   ]
  },
  {
   "cell_type": "code",
   "execution_count": 26,
   "id": "4614e7c1-894e-4a06-aea7-487fb10b6dde",
   "metadata": {},
   "outputs": [
    {
     "ename": "NameError",
     "evalue": "name 'np' is not defined",
     "output_type": "error",
     "traceback": [
      "\u001b[1;31m---------------------------------------------------------------------------\u001b[0m",
      "\u001b[1;31mNameError\u001b[0m                                 Traceback (most recent call last)",
      "Cell \u001b[1;32mIn[26], line 1\u001b[0m\n\u001b[1;32m----> 1\u001b[0m plt_intuition(x_train,y_train)\n",
      "File \u001b[1;32mE:\\py\\Coursera-ML\\lab_utils_local.py:3\u001b[0m, in \u001b[0;36mplt_intuition\u001b[1;34m(x_train, y_train)\u001b[0m\n\u001b[0;32m      1\u001b[0m \u001b[38;5;28;01mdef\u001b[39;00m \u001b[38;5;21mplt_intuition\u001b[39m(x_train, y_train):\n\u001b[1;32m----> 3\u001b[0m     w_range \u001b[38;5;241m=\u001b[39m np\u001b[38;5;241m.\u001b[39marray([\u001b[38;5;241m200\u001b[39m\u001b[38;5;241m-\u001b[39m\u001b[38;5;241m200\u001b[39m,\u001b[38;5;241m200\u001b[39m\u001b[38;5;241m+\u001b[39m\u001b[38;5;241m200\u001b[39m])\n\u001b[0;32m      4\u001b[0m     tmp_b \u001b[38;5;241m=\u001b[39m \u001b[38;5;241m100\u001b[39m\n\u001b[0;32m      6\u001b[0m     w_array \u001b[38;5;241m=\u001b[39m np\u001b[38;5;241m.\u001b[39marange(\u001b[38;5;241m*\u001b[39mw_range, \u001b[38;5;241m5\u001b[39m)\n",
      "\u001b[1;31mNameError\u001b[0m: name 'np' is not defined"
     ]
    }
   ],
   "source": [
    "plt_intuition(x_train,y_train)"
   ]
  },
  {
   "cell_type": "code",
   "execution_count": 29,
   "id": "4e2566b2-2e08-4b0a-a376-3194b7eea56d",
   "metadata": {},
   "outputs": [
    {
     "data": {
      "text/plain": [
       "array([  0,   5,  10,  15,  20,  25,  30,  35,  40,  45,  50,  55,  60,\n",
       "        65,  70,  75,  80,  85,  90,  95, 100, 105, 110, 115, 120, 125,\n",
       "       130, 135, 140, 145, 150, 155, 160, 165, 170, 175, 180, 185, 190,\n",
       "       195, 200, 205, 210, 215, 220, 225, 230, 235, 240, 245, 250, 255,\n",
       "       260, 265, 270, 275, 280, 285, 290, 295, 300, 305, 310, 315, 320,\n",
       "       325, 330, 335, 340, 345, 350, 355, 360, 365, 370, 375, 380, 385,\n",
       "       390, 395])"
      ]
     },
     "execution_count": 29,
     "metadata": {},
     "output_type": "execute_result"
    }
   ],
   "source": [
    "w_range = np.array([200-200,200+200])\n",
    "w_range\n",
    "w_array = np.arange(*w_range, 5)\n",
    "w_array"
   ]
  },
  {
   "cell_type": "code",
   "execution_count": null,
   "id": "cda3924b-2116-4955-8a1a-66364cd096b6",
   "metadata": {},
   "outputs": [],
   "source": [
    "w"
   ]
  }
 ],
 "metadata": {
  "kernelspec": {
   "display_name": "Python 3 (ipykernel)",
   "language": "python",
   "name": "python3"
  },
  "language_info": {
   "codemirror_mode": {
    "name": "ipython",
    "version": 3
   },
   "file_extension": ".py",
   "mimetype": "text/x-python",
   "name": "python",
   "nbconvert_exporter": "python",
   "pygments_lexer": "ipython3",
   "version": "3.12.4"
  }
 },
 "nbformat": 4,
 "nbformat_minor": 5
}
