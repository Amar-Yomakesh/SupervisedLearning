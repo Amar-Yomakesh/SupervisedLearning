{
 "cells": [
  {
   "cell_type": "markdown",
   "id": "b2b0995a-af37-4f93-83ab-c492b891a39f",
   "metadata": {},
   "source": [
    "# Vectorization"
   ]
  },
  {
   "cell_type": "code",
   "execution_count": 90,
   "id": "053da34c-30ac-464e-85da-f94fc8eb0e49",
   "metadata": {},
   "outputs": [],
   "source": [
    "import numpy as np\n",
    "import time\n",
    "x_train = np.array([10,20,30])\n",
    "w = np.array([100,200,300])"
   ]
  },
  {
   "cell_type": "code",
   "execution_count": 6,
   "id": "3a9d1771-f272-4c1e-810d-f606bcf72792",
   "metadata": {},
   "outputs": [],
   "source": [
    "dot_prdt = np.dot(w,x_train)"
   ]
  },
  {
   "cell_type": "code",
   "execution_count": 7,
   "id": "277442c7-e408-4c5d-8231-8a10edaa8815",
   "metadata": {},
   "outputs": [
    {
     "data": {
      "text/plain": [
       "14000"
      ]
     },
     "execution_count": 7,
     "metadata": {},
     "output_type": "execute_result"
    }
   ],
   "source": [
    "dot_prdt"
   ]
  },
  {
   "cell_type": "markdown",
   "id": "5a15056f-5e66-4a04-a005-5aee021ad526",
   "metadata": {},
   "source": [
    "Here dot operator multiplies each element of x_train vector into each element of vector w and finally adds up all the elements.\n",
    "This happens parallelly. If there are more number of elements in the vector(array) then dot product is more effecient than conventional for-loop"
   ]
  },
  {
   "cell_type": "markdown",
   "id": "05e318da-9055-4046-b37e-570269fcf02c",
   "metadata": {},
   "source": [
    "## Vectors\n",
    "Vectors are arrays with numbers. It will  have a single type, for example it does not contain character and number in a single vector.\n",
    "Number of elements in the vector is called the Rank or dimention.  for example, the $0^{th}$ element, of the vector $\\mathbf{x}$ is $x_0$. "
   ]
  },
  {
   "cell_type": "markdown",
   "id": "63c1b175-0544-4484-8c1f-405de0626855",
   "metadata": {},
   "source": [
    "### Vector creation using numpy"
   ]
  },
  {
   "cell_type": "code",
   "execution_count": 20,
   "id": "91f4593f-67c2-4f3d-9725-8eaf9f36cbfb",
   "metadata": {},
   "outputs": [
    {
     "name": "stdout",
     "output_type": "stream",
     "text": [
      "np.zeros(4,) a : [0. 0. 0. 0.]\n",
      "np.zeros(4) a : [0. 0. 0. 0.]\n"
     ]
    },
    {
     "data": {
      "text/plain": [
       "dtype('float64')"
      ]
     },
     "execution_count": 20,
     "metadata": {},
     "output_type": "execute_result"
    }
   ],
   "source": [
    "a = np.zeros(4,); print(f\"np.zeros(4,) a : {a}\")\n",
    "a = np.zeros(4); print(f\"np.zeros(4) a : {a}\")\n",
    "a = np.random.random_sample(4)\n",
    "a.dtype\n"
   ]
  },
  {
   "cell_type": "code",
   "execution_count": 33,
   "id": "c16d1a56-bbb9-476c-b1e5-a645b0550e0c",
   "metadata": {},
   "outputs": [
    {
     "name": "stdout",
     "output_type": "stream",
     "text": [
      "np.arange(4) b: [0. 1. 2. 3. 4. 5. 6. 7. 8. 9.]\n",
      "np.shape() : (10,)\n",
      "np.dtype : float64\n"
     ]
    }
   ],
   "source": [
    "b = np.arange(10.)\n",
    "print(f\"np.arange(4) b: {b}\")\n",
    "print(f\"np.shape() : {b.shape}\")\n",
    "print(f\"np.dtype : {b.dtype}\")"
   ]
  },
  {
   "cell_type": "markdown",
   "id": "9ccb062b-b3b7-4f70-bcda-d2808e02473f",
   "metadata": {},
   "source": [
    "### vector indexing 1-dimentional"
   ]
  },
  {
   "cell_type": "code",
   "execution_count": 40,
   "id": "76751107-58e7-4dc1-9ff0-153801fdfbe9",
   "metadata": {},
   "outputs": [
    {
     "name": "stdout",
     "output_type": "stream",
     "text": [
      "a[1] is a scalar : 1\n"
     ]
    },
    {
     "data": {
      "text/plain": [
       "()"
      ]
     },
     "execution_count": 40,
     "metadata": {},
     "output_type": "execute_result"
    }
   ],
   "source": [
    "a = np.arange(10)\n",
    "print(f\"a[1] is a scalar : {a[1]}\")\n",
    "# accessing one element will return scalar\n",
    "a[2].shape"
   ]
  },
  {
   "cell_type": "code",
   "execution_count": 41,
   "id": "8d0101bf-70a5-4b85-b592-0059eab1628b",
   "metadata": {},
   "outputs": [
    {
     "name": "stdout",
     "output_type": "stream",
     "text": [
      "error is index 10 is out of bounds for axis 0 with size 10\n"
     ]
    }
   ],
   "source": [
    "try:\n",
    "    c = a[10]\n",
    "except Exception as e:\n",
    "    print(f\"error is {e}\")"
   ]
  },
  {
   "cell_type": "markdown",
   "id": "a4c666ad-8a69-4552-a243-e23c7bad76f7",
   "metadata": {},
   "source": [
    "### vector slicing"
   ]
  },
  {
   "cell_type": "code",
   "execution_count": 44,
   "id": "092a4b7c-c167-4260-b054-6a6eb677f566",
   "metadata": {},
   "outputs": [
    {
     "name": "stdout",
     "output_type": "stream",
     "text": [
      "a is [0 1 2 3 4 5 6 7 8 9]\n"
     ]
    },
    {
     "data": {
      "text/plain": [
       "array([2, 3, 4])"
      ]
     },
     "execution_count": 44,
     "metadata": {},
     "output_type": "execute_result"
    }
   ],
   "source": [
    "# a = np.arange(10)\n",
    "print(f\"a is {a}\")\n",
    "a[2:5:1]"
   ]
  },
  {
   "cell_type": "code",
   "execution_count": 52,
   "id": "1434f1c4-e760-42a7-87a8-1333a9f26517",
   "metadata": {},
   "outputs": [
    {
     "name": "stdout",
     "output_type": "stream",
     "text": [
      "d array is : [0 1 2 3 4 5 6 7 8 9]\n"
     ]
    },
    {
     "data": {
      "text/plain": [
       "array([1])"
      ]
     },
     "execution_count": 52,
     "metadata": {},
     "output_type": "execute_result"
    }
   ],
   "source": [
    "d = np.arange(0,10)\n",
    "print(\"d array is :\", d)\n",
    "d[1:2:1]"
   ]
  },
  {
   "cell_type": "markdown",
   "id": "cb782e56-9374-4319-8ad2-e7ed01c8b634",
   "metadata": {},
   "source": [
    " [start:stop:increments]\n",
    " starting of the index\n",
    " stop at which length \n",
    " how many increments"
   ]
  },
  {
   "cell_type": "code",
   "execution_count": 58,
   "id": "595ca570-c815-42e8-a0dd-88ff0eca5863",
   "metadata": {},
   "outputs": [
    {
     "data": {
      "text/plain": [
       "array([2, 5])"
      ]
     },
     "execution_count": 58,
     "metadata": {},
     "output_type": "execute_result"
    }
   ],
   "source": [
    "d[2:6:3]"
   ]
  },
  {
   "cell_type": "code",
   "execution_count": 57,
   "id": "5ff8dd9d-0df6-4bf2-83ce-b82ad8d98100",
   "metadata": {},
   "outputs": [
    {
     "data": {
      "text/plain": [
       "array([2, 3, 4, 5])"
      ]
     },
     "execution_count": 57,
     "metadata": {},
     "output_type": "execute_result"
    }
   ],
   "source": [
    "d[2:6:1]"
   ]
  },
  {
   "cell_type": "code",
   "execution_count": 59,
   "id": "bc453c20-7e43-4bcf-ac49-acf91366bbe5",
   "metadata": {},
   "outputs": [
    {
     "data": {
      "text/plain": [
       "array([3, 4, 5, 6, 7, 8, 9])"
      ]
     },
     "execution_count": 59,
     "metadata": {},
     "output_type": "execute_result"
    }
   ],
   "source": [
    "d[3:]"
   ]
  },
  {
   "cell_type": "code",
   "execution_count": 60,
   "id": "bcc9fc1e-6236-4de6-8e34-abb456d9e335",
   "metadata": {},
   "outputs": [
    {
     "data": {
      "text/plain": [
       "array([0, 1, 2])"
      ]
     },
     "execution_count": 60,
     "metadata": {},
     "output_type": "execute_result"
    }
   ],
   "source": [
    "d[:3]"
   ]
  },
  {
   "cell_type": "code",
   "execution_count": 62,
   "id": "c610d9e8-46b5-4d0e-a35c-d46f3969ba44",
   "metadata": {},
   "outputs": [
    {
     "data": {
      "text/plain": [
       "array([0, 2, 4, 6, 8])"
      ]
     },
     "execution_count": 62,
     "metadata": {},
     "output_type": "execute_result"
    }
   ],
   "source": [
    "d[::2]"
   ]
  },
  {
   "cell_type": "markdown",
   "id": "3529472f-721f-4d0a-80cf-b8e4386ffc31",
   "metadata": {},
   "source": [
    "### single vector operations : sum multiply negate"
   ]
  },
  {
   "cell_type": "code",
   "execution_count": 65,
   "id": "a97ccb50-8018-4f0c-8609-24cfd8aa8fbe",
   "metadata": {},
   "outputs": [
    {
     "data": {
      "text/plain": [
       "array([-0.65745128, -0.17918324, -0.34773536, -0.77604086])"
      ]
     },
     "execution_count": 65,
     "metadata": {},
     "output_type": "execute_result"
    }
   ],
   "source": [
    "a = np.random.rand(4)\n",
    "b = -a\n",
    "b"
   ]
  },
  {
   "cell_type": "code",
   "execution_count": 68,
   "id": "d53b8145-bd79-42a9-a009-0a0f9ed72b33",
   "metadata": {},
   "outputs": [
    {
     "data": {
      "text/plain": [
       "1.9604107389589447"
      ]
     },
     "execution_count": 68,
     "metadata": {},
     "output_type": "execute_result"
    }
   ],
   "source": [
    "b = a.sum()\n",
    "b"
   ]
  },
  {
   "cell_type": "code",
   "execution_count": 75,
   "id": "fac6276f-996e-4320-90d4-3003ce75f782",
   "metadata": {},
   "outputs": [
    {
     "data": {
      "text/plain": [
       "array([1, 2, 3, 4])"
      ]
     },
     "execution_count": 75,
     "metadata": {},
     "output_type": "execute_result"
    }
   ],
   "source": [
    "# this is vector scalar operation\n",
    "b = a +1\n",
    "b"
   ]
  },
  {
   "cell_type": "code",
   "execution_count": 71,
   "id": "addb54e6-0806-4c51-8497-cbeab4c3cc7f",
   "metadata": {},
   "outputs": [
    {
     "data": {
      "text/plain": [
       "array([0., 0., 0., 0.])"
      ]
     },
     "execution_count": 71,
     "metadata": {},
     "output_type": "execute_result"
    }
   ],
   "source": [
    "b = a*0\n",
    "b"
   ]
  },
  {
   "cell_type": "markdown",
   "id": "8551372a-6f41-4d07-8562-2be45d719fa5",
   "metadata": {},
   "source": [
    "### vector vector operations"
   ]
  },
  {
   "cell_type": "code",
   "execution_count": 73,
   "id": "0ad53793-52d9-4895-a2fb-3013b8d659fe",
   "metadata": {},
   "outputs": [
    {
     "name": "stdout",
     "output_type": "stream",
     "text": [
      "a and b are  [0 1 2 3] [0 1 2 3]\n"
     ]
    },
    {
     "data": {
      "text/plain": [
       "array([0, 1, 4, 9])"
      ]
     },
     "execution_count": 73,
     "metadata": {},
     "output_type": "execute_result"
    }
   ],
   "source": [
    "a = np.arange(4)\n",
    "b = np.arange(4)\n",
    "print(\"a and b are \" , a , b)\n",
    "a*b"
   ]
  },
  {
   "cell_type": "code",
   "execution_count": 74,
   "id": "1f346afa-5289-4203-8f1f-c1ffc98082ec",
   "metadata": {},
   "outputs": [
    {
     "name": "stdout",
     "output_type": "stream",
     "text": [
      "exception is  operands could not be broadcast together with shapes (4,) (3,) \n"
     ]
    }
   ],
   "source": [
    "c = np.arange(3)\n",
    "try:\n",
    "    d = a + c\n",
    "except Exception as e:\n",
    "    print(\"exception is \", e)"
   ]
  },
  {
   "cell_type": "markdown",
   "id": "a31a1fcf-9f41-4b33-8017-9e4887b19ef3",
   "metadata": {},
   "source": [
    "### vector dot product\n",
    "The dot product multiplies the values in two vectors element-wise and then sums the result.\n",
    "Vector dot product requires the dimensions of the two vectors to be the same. "
   ]
  },
  {
   "cell_type": "code",
   "execution_count": 83,
   "id": "efbd55ea-d244-49c6-b9bb-0ceec1c6041c",
   "metadata": {},
   "outputs": [
    {
     "name": "stdout",
     "output_type": "stream",
     "text": [
      "a is [3 6 8 4 8] b is [4 8 3 3 6]\n"
     ]
    }
   ],
   "source": [
    "rng = np.random.default_rng()\n",
    "a = rng.integers(low=0, high=10, size=5)  \n",
    "b = rng.integers(low=0, high=10, size=5)  \n",
    "print(f\"a is {a} b is {b}\")"
   ]
  },
  {
   "cell_type": "code",
   "execution_count": 86,
   "id": "9b5fe566-45b8-40c5-af41-9875674d2f19",
   "metadata": {},
   "outputs": [],
   "source": [
    "def compute_dot(a,b):\n",
    "    m = a.shape[0]\n",
    "    dot_prdct = 0\n",
    "    for i in range(m):\n",
    "        dot_prdct = dot_prdct + a[i] * b [i]\n",
    "    return dot_prdct\n"
   ]
  },
  {
   "cell_type": "code",
   "execution_count": 87,
   "id": "830e84f4-e617-411b-949d-83f50da5b14c",
   "metadata": {},
   "outputs": [
    {
     "data": {
      "text/plain": [
       "144"
      ]
     },
     "execution_count": 87,
     "metadata": {},
     "output_type": "execute_result"
    }
   ],
   "source": [
    "compute_dot(a,b)"
   ]
  },
  {
   "cell_type": "markdown",
   "id": "be67e0d5-598b-4673-8350-f19e964c5149",
   "metadata": {},
   "source": [
    "#### using np.dot "
   ]
  },
  {
   "cell_type": "code",
   "execution_count": 107,
   "id": "194b3916-220a-43bd-894e-3d7360cd065a",
   "metadata": {},
   "outputs": [],
   "source": [
    "def comput_np_dot(a,b):\n",
    "    dot_prdct = np.dot(a,b)\n",
    "    #print(f\"dot product of a and b vectors using np.dot(a,b) : {dot_prdct}\")\n",
    "    return dot_prdct"
   ]
  },
  {
   "cell_type": "code",
   "execution_count": 109,
   "id": "9646b353-219e-422b-a1d2-f8c5877bd3e3",
   "metadata": {},
   "outputs": [
    {
     "name": "stdout",
     "output_type": "stream",
     "text": [
      "time taken to compute dot product using conventional method is 0.00753331184387207\n",
      "time taken to compute dot product using np.dot method is 0.0\n"
     ]
    }
   ],
   "source": [
    "a = rng.integers(low=0,high=10000,size=10000)\n",
    "b = rng.integers(low=0,high=10000,size=10000)\n",
    "tic = time.time()\n",
    "compute_dot(a,b)\n",
    "toc = time.time()\n",
    "print(f\"time taken to compute dot product using conventional method is {toc-tic}\")\n",
    "tic= time.time()\n",
    "comput_np_dot(a,b)\n",
    "toc=time.time()\n",
    "print(f\"time taken to compute dot product using np.dot method is {toc-tic}\")"
   ]
  },
  {
   "cell_type": "code",
   "execution_count": 117,
   "id": "241982c7-a336-475d-821d-a30736f3757d",
   "metadata": {},
   "outputs": [
    {
     "data": {
      "text/plain": [
       "(1,)"
      ]
     },
     "execution_count": 117,
     "metadata": {},
     "output_type": "execute_result"
    }
   ],
   "source": [
    "x = np.arange(5)\n",
    "w = np.array([2])\n",
    "c = np.dot(x[2],w)\n",
    "c.shape"
   ]
  },
  {
   "cell_type": "markdown",
   "id": "50bc45e1-e15a-4c70-8b72-e1854885a230",
   "metadata": {},
   "source": [
    "## Multi dimentional vector"
   ]
  },
  {
   "cell_type": "code",
   "execution_count": 135,
   "id": "09aa0e07-0740-467c-951e-5167847d9ad9",
   "metadata": {},
   "outputs": [
    {
     "name": "stdout",
     "output_type": "stream",
     "text": [
      "a is a multi dimentional matrics of shape m,n 2,3 [[0. 0. 0.]\n",
      " [0. 0. 0.]]\n"
     ]
    },
    {
     "data": {
      "text/plain": [
       "(4, 3)"
      ]
     },
     "execution_count": 135,
     "metadata": {},
     "output_type": "execute_result"
    }
   ],
   "source": [
    "a = np.zeros((2,3))\n",
    "print(f\"a is a multi dimentional matrics of shape m,n 2,3 {a}\")\n",
    "b= np.random.random_sample((3,2))\n",
    "c = rng.integers(low=0,high=20,size=(4,3))\n",
    "c.shape"
   ]
  },
  {
   "cell_type": "markdown",
   "id": "63d9982a-dfb5-4079-a552-21e545f104b5",
   "metadata": {},
   "source": [
    "#### indexing"
   ]
  },
  {
   "cell_type": "code",
   "execution_count": 151,
   "id": "688e0730-3fa7-4400-8218-33e4de6ec6cc",
   "metadata": {},
   "outputs": [
    {
     "name": "stdout",
     "output_type": "stream",
     "text": [
      "[[ 2 18  3]\n",
      " [ 1 10 11]\n",
      " [ 8 10  5]\n",
      " [ 3  0 16]]\n"
     ]
    },
    {
     "data": {
      "text/plain": [
       "array([[ 1, 10, 11],\n",
       "       [ 8, 10,  5]], dtype=int64)"
      ]
     },
     "execution_count": 151,
     "metadata": {},
     "output_type": "execute_result"
    }
   ],
   "source": [
    "print(c)\n",
    "c[1:3:1]"
   ]
  },
  {
   "cell_type": "code",
   "execution_count": 163,
   "id": "2a6d5b26-b25d-4203-bcbe-08135956aff4",
   "metadata": {},
   "outputs": [
    {
     "data": {
      "text/plain": [
       "array([[0, 1, 2],\n",
       "       [3, 4, 5]])"
      ]
     },
     "execution_count": 163,
     "metadata": {},
     "output_type": "execute_result"
    }
   ],
   "source": [
    "e = np.arange(6).reshape(2,3)\n",
    "e"
   ]
  },
  {
   "cell_type": "code",
   "execution_count": 165,
   "id": "9f475e17-8edb-4bef-9cb5-50426b0b1b10",
   "metadata": {},
   "outputs": [
    {
     "data": {
      "text/plain": [
       "array([[0, 1, 2, 3, 4, 5]])"
      ]
     },
     "execution_count": 165,
     "metadata": {},
     "output_type": "execute_result"
    }
   ],
   "source": [
    "e.reshape(1,6)"
   ]
  },
  {
   "cell_type": "code",
   "execution_count": 168,
   "id": "09a8980b-b908-41f2-9d32-335ab9cfe089",
   "metadata": {},
   "outputs": [
    {
     "data": {
      "text/plain": [
       "array([[ 0,  1,  2,  3,  4,  5,  6,  7,  8,  9],\n",
       "       [10, 11, 12, 13, 14, 15, 16, 17, 18, 19]])"
      ]
     },
     "execution_count": 168,
     "metadata": {},
     "output_type": "execute_result"
    }
   ],
   "source": [
    "f = np.arange(20).reshape(-1, 10)\n",
    "g = np.arange(20).reshape(2,10)\n",
    "g"
   ]
  },
  {
   "cell_type": "code",
   "execution_count": 176,
   "id": "982e48f5-f8b4-438f-a4a6-ae87eed18ba3",
   "metadata": {},
   "outputs": [
    {
     "data": {
      "text/plain": [
       "array([1, 2, 3])"
      ]
     },
     "execution_count": 176,
     "metadata": {},
     "output_type": "execute_result"
    }
   ],
   "source": [
    "g[0,1:4]"
   ]
  },
  {
   "cell_type": "code",
   "execution_count": null,
   "id": "706a6588-a904-4b59-980f-df0cc7a1c639",
   "metadata": {},
   "outputs": [],
   "source": []
  }
 ],
 "metadata": {
  "kernelspec": {
   "display_name": "Python 3 (ipykernel)",
   "language": "python",
   "name": "python3"
  },
  "language_info": {
   "codemirror_mode": {
    "name": "ipython",
    "version": 3
   },
   "file_extension": ".py",
   "mimetype": "text/x-python",
   "name": "python",
   "nbconvert_exporter": "python",
   "pygments_lexer": "ipython3",
   "version": "3.12.4"
  }
 },
 "nbformat": 4,
 "nbformat_minor": 5
}
